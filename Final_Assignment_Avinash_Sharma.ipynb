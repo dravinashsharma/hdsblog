{
  "cells": [
    {
      "cell_type": "markdown",
      "metadata": {
        "id": "view-in-github",
        "colab_type": "text"
      },
      "source": [
        "<a href=\"https://colab.research.google.com/github/dravinashsharma/hdsblog/blob/main/Final_Assignment_Avinash_Sharma.ipynb\" target=\"_parent\"><img src=\"https://colab.research.google.com/assets/colab-badge.svg\" alt=\"Open In Colab\"/></a>"
      ]
    },
    {
      "cell_type": "markdown",
      "metadata": {
        "id": "1GNrOr-WiKQW"
      },
      "source": [
        "![alt text](https://drive.google.com/uc?export=view&id=1DXUVHxd4t15mfuqMgMCLnsP4jWVI5EWz)\n",
        "\n",
        "---\n",
        "\n",
        "<br>\n",
        "© 2022 Copyright The University of New South Wales - CRICOS 00098G\n",
        "\n",
        "**Authors**: Oscar Perez-Concha and Zhisheng (Sandy) Sa.\n",
        "\n",
        "**Communications**: If you have any questions, please email Oscar and Sandy at: o.perezconcha@unsw.edu.au and z.sa@unsw.edu.au\n",
        "\n",
        "**Please use email exclusively for communication with us regarding this assignment.**"
      ]
    },
    {
      "cell_type": "markdown",
      "metadata": {
        "id": "N6T0wwT_GozJ"
      },
      "source": [
        "# Final Assignment "
      ]
    },
    {
      "cell_type": "markdown",
      "metadata": {
        "id": "R1skKevpG0jB"
      },
      "source": [
        "\n",
        "\n",
        "---\n",
        "\n"
      ]
    },
    {
      "cell_type": "markdown",
      "metadata": {
        "id": "QmhnQ1KbGY0B"
      },
      "source": [
        ""
      ]
    },
    {
      "cell_type": "markdown",
      "metadata": {
        "id": "fN4p9w5eiKQY"
      },
      "source": [
        "#####################################################################################\n",
        "\n",
        "Double-click to write down your name and surname.\n",
        "\n",
        "**Name and Surname:** Avinash Sharma\n",
        "\n",
        "**Honour Pledge** <p>\n",
        "    \n",
        "    \n",
        "Declaration: <p>\n",
        "    \n",
        "    \n",
        "I declare that this assessment item is my own work, except where acknowledged, and has not been submitted for academic credit elsewhere or previously, or produced independently of this course (e.g. for a third party such as your place of employment) and acknowledge that the assessor of this item may, for the purpose of assessing this item: \n",
        "\n",
        "1. Reproduce this assessment item and provide a copy to another member of the University; and/or \n",
        "\n",
        "2. Communicate a copy of this assessment item to a plagiarism checking service (which may then retain a copy of the assessment item on its database for the purpose of future plagiarism checking). \n",
        "\n",
        "#####################################################################################"
      ]
    },
    {
      "cell_type": "markdown",
      "metadata": {
        "id": "PlVCjmaWCpzF"
      },
      "source": [
        "---\n",
        "# 1.  Health Data Science Scenario\n",
        " \n",
        "## 1a. Research Question\n",
        "\n",
        "Our hospital has been very proactive in terms of analysing data of its electronic medical record (EMR). By analysing the data, they have made very interesing discoveries:\n",
        "\n",
        "1. They identified that readmitted patients are not only those who were sicker in the first admission, but those who had less support at home after discharge or those patients that did not have a medical follow-up after discharge.\n",
        "2. Readmitted patients experienced high levels of emotional stress.\n",
        "3. Readmitted patients were at much higher risk of acquiring new infections while at hospital.\n",
        "4. Readmissions are highly costly. Patients that were readmitted for the reasons cited above tended to be sicker than they were when they were first admitted and their length of stay was significantly longer than their first admission.\n",
        "\n",
        "Our hospital has trialed a \"specialised unit\" that coordinates the patient's discharge. A team of nurses and OTs visit the patient's home after discharge. The frequency of the visits depends upon an assessment made before discharge, but the average number of visits is 5 across the board. Amongst other things, they make sure that the wounds are healing properly, medication is taken, that there is coordination with a GP in place and basic daily activities can be done, such as moving around their home, toilet, cooking, ...\n",
        "In addition, the specialised unit regularly contacts the patients via telephone to check that everything is going well. The patients can also contact the specialised unit if they need any help. \n",
        "\n",
        "This pilot has drastically reduced the number of readmissions. \n",
        "\n",
        "In addition, the cost of operating the specialised unit was much cheaper than the cost of readmissions.\n",
        "\n",
        "In terms of budget:\n",
        "1. A day in hospital costs 5,000 dollars per day on average; readmitted patients tend to stay an average of 4 days.\n",
        "2. A home visit of the specialised unit costs 400 dollars; the average number of visits is 5. \n",
        "3. No targeted patients: 0 dollars\n",
        "\n",
        "Our hospital is now ready to roll out and implement the specialised unit service to all patients at risk for readmission. \n",
        "The problem is that a priori, they do not know which patients are at risk of readmission. Thus, they do not know the patients they should be targeting.\n",
        "\n",
        "\n",
        "<b><font color=green>Goal/Research Question: </font>\n",
        "1. The hospital needs a machine learning algorithm to predict which patients should participate in this intervention. The prediction will be done just before discharge. They are hiring you to build this algorithm.\n",
        "\n",
        "2. You will need to explain to the hospital managers the performance of your algoritm, so they can make an informed decision whether to use your algorithm or not."
      ]
    },
    {
      "cell_type": "markdown",
      "metadata": {
        "id": "k_dDoHDsl9X2"
      },
      "source": [
        "\n",
        "\n",
        "---\n",
        "\n"
      ]
    },
    {
      "cell_type": "markdown",
      "metadata": {
        "id": "15VKZz_8G3s4"
      },
      "source": [
        "## 1b. Instructions\n",
        "\n",
        "1. We are going to deliver one predictive model to predict readmission to hospital within 30 days of discharge. \n",
        "\n",
        "2. Check and study the data provided. Read the data dictionary carefully and check again the plots and graphs created in the exercises corresponding to weeks 1, 2 and 3. \n",
        "\n",
        "3. Since the data have been already provided by the hospital, we are going to skip the next steps of the health data science workflow (see image below). \n",
        "  - Step 3 and substeps 3a,3b,3c,3d,3e: Data Gathering.\n",
        "\n",
        "4. Step 4, substep 4a: Data visualization. Visualize the data in your draft, but do not include the graphs in the final submission.\n",
        "\n",
        "5. The hospital wants the model to capture as many \"readmissions\" as posible (true positives) even at the expense of <font color='green'><b> moderately</b> </font> increasing the number of false positives <font color='green'><b>  within reason</b></font> (that is, patients that are not at risk of readmission that are classified as readmission). \n",
        "\n",
        "6. Nevertheless, we must take into account that the hospital does not have unlimited resources, so they cannot considered a high number of patients at risk of readmission because the cost of the \"specialised unit\" would be very high.  \n",
        "\n",
        "7. You will design several machine learning algorithms, choose one, and give a rationale explaining why you choose that algorithm. \n",
        "\n",
        "    * Build some predictive models to predict readmission to hospital within 30 days of discharge using:  \n",
        "        *  'Logistic Regression Classifiers' \n",
        "        * 'Random Forest Classifier'. \n",
        "        \n",
        "8. Use the `classification_report` and confusion matrix metrics to evaluate your models. If you use other metrics, such as the ROC curve, do not include them in the final submission.\n",
        "\n",
        "9. <b> Very Important: Justify your decisions and why they were made in the space provided.</b>   Write <b>one or two sentences</b> for each section before each block of Python code with the description of what the blocks do; explanations must be clear; no “sanity checks” (although these checks are encouraged during the construction of the algorithms); \n",
        "\n",
        "10. Print clear labels in the printed results and explain in short and concise sentences the steps that you followed. \n",
        "\n",
        "11. Comment and document your code, as you will most likely later work in teams developing such algorithms.\n",
        "\n",
        "12. Format: Jupyter Notebook.\n",
        "13. Programming Language: Python.\n",
        "14. Platform: Google Colab.\n",
        "15. The assignment will be mark using the rubric provided in the outline\n",
        "\n",
        "16. **Submission: Upload the Jupyter Notebook in OpenLearning, in the section provided for that and on your GitHub space. The application wil close at exactly the date and time of the deadline.**\n",
        "\n",
        "17. Marks will be deducted if these instructions are not followed.\n",
        "\n",
        "18. <b><font color=green>Only the final version of the document must be submitted. </font></b>. \n",
        "\n",
        "19. Add your name and surname to the name of this document. For example. `Final-Assignment-Oscar-PerezConcha.ipynb`\n",
        "\n",
        "20. Each question is 10 marks, except question 8 that is 20 marks.\n",
        "\n",
        "21. If you have any questions, please email Oscar and Sandy at:\n",
        "o.perezconcha@unsw.edu.au and z.sa@unsw.edu.au"
      ]
    },
    {
      "cell_type": "markdown",
      "metadata": {
        "id": "9wK1oQbhq5hX"
      },
      "source": [
        "![alt text](https://drive.google.com/uc?export=view&id=105SGqeyo8RgLhSO8mN7ZE5OsG0YiLPKt)"
      ]
    },
    {
      "cell_type": "markdown",
      "metadata": {
        "id": "3eE8VXdpl_I2"
      },
      "source": [
        "\n",
        "\n",
        "---\n",
        "\n"
      ]
    },
    {
      "cell_type": "code",
      "execution_count": 1,
      "metadata": {
        "id": "skbhUSeQiKQa",
        "colab": {
          "base_uri": "https://localhost:8080/"
        },
        "outputId": "92d5f229-74e7-4f4b-ed5d-5e2fd37fcf4f"
      },
      "outputs": [
        {
          "output_type": "stream",
          "name": "stdout",
          "text": [
            "Installing:  {'shap', 'grid'}\n"
          ]
        }
      ],
      "source": [
        "# check required libraries are installed if not calling system to install\n",
        "import sys\n",
        "import subprocess\n",
        "import pkg_resources\n",
        "\n",
        "required = {'numpy', 'pandas', 'plotnine', 'matplotlib', 'seaborn', \n",
        "            'grid', 'shap', 'scikit-learn'}\n",
        "installed = {pkg.key for pkg in pkg_resources.working_set}\n",
        "missing = required - installed\n",
        "\n",
        "if missing:\n",
        "    print('Installing: ', missing)\n",
        "    python = sys.executable\n",
        "    subprocess.check_call([python, '-m', 'pip', 'install', *missing], stdout=subprocess.DEVNULL)\n",
        "# delete unwanted variables\n",
        "del required \n",
        "del installed \n",
        "del missing"
      ]
    },
    {
      "cell_type": "code",
      "execution_count": 2,
      "metadata": {
        "id": "Y8p62DC4iKQb",
        "colab": {
          "base_uri": "https://localhost:8080/"
        },
        "outputId": "7c4c41f9-2e9f-40ff-cbfc-c14ed0998261"
      },
      "outputs": [
        {
          "output_type": "stream",
          "name": "stdout",
          "text": [
            "Mounted at /content/drive\n"
          ]
        }
      ],
      "source": [
        "# Mount Google Drive\n",
        "# We do not need to run this cell if you are not running this notebook in Google Colab\n",
        "\n",
        "if 'google.colab' in str(get_ipython()):\n",
        "    from google.colab import drive # import drive from Gogle colab\n",
        "    root = '/content/drive'     # default location for the drive\n",
        "    # print(root)                 # print content of ROOT (Optional)\n",
        "    drive.mount(root)\n",
        "else:\n",
        "    print('Not running on CoLab')"
      ]
    },
    {
      "cell_type": "markdown",
      "metadata": {
        "id": "T70EJU8pAzeY"
      },
      "source": [
        "Change the project paths and the paths according to where you have placed your files: "
      ]
    },
    {
      "cell_type": "code",
      "execution_count": 3,
      "metadata": {
        "id": "kRNGzaEjiKQc"
      },
      "outputs": [],
      "source": [
        "from pathlib import Path\n",
        "\n",
        "if 'google.colab' in str(get_ipython()):\n",
        "    # EDIT THE PROJECT PATH IF DIFFERENT WITH YOUR ONE\n",
        "    project_path = Path(root) / 'MyDrive' / 'HDAT9500' / 'final-assignment'/ 'data'\n",
        "\n",
        "    # OPTIONAL - set working directory according to your google drive project path\n",
        "    # import os\n",
        "    # Change directory to the location defined in project_path\n",
        "    # os.chdir(project_path)\n",
        "else:\n",
        "    project_path = Path()"
      ]
    },
    {
      "cell_type": "markdown",
      "metadata": {
        "id": "58McxBL6Angl"
      },
      "source": [
        "\n",
        "\n",
        "---\n",
        "Function to plot the confusion matrix:\n"
      ]
    },
    {
      "cell_type": "code",
      "execution_count": 4,
      "metadata": {
        "id": "ptWoRBD1os1T"
      },
      "outputs": [],
      "source": [
        "import matplotlib.pyplot as plt\n",
        "import seaborn as sns\n",
        "def plot_confusion_matrix(confusion_matrix):\n",
        "  # visualise the confusion matrix\n",
        "  labels = ['No', 'Yes']\n",
        "  ax = plt.subplot()\n",
        "  sns.heatmap(confusion_matrix, annot = True, fmt = '.0f', ax = ax, cmap = 'viridis')\n",
        "\n",
        "  # labels, titles and ticks\n",
        "  ax.set_xlabel('Predicted labels')\n",
        "  ax.set_ylabel('True labels')\n",
        "  ax.set_title('Confusion Matrix')\n",
        "  ax.xaxis.set_ticklabels(labels)\n",
        "  ax.yaxis.set_ticklabels(labels)"
      ]
    },
    {
      "cell_type": "markdown",
      "metadata": {
        "id": "IbpJocChpcTR"
      },
      "source": [
        "---\n",
        "# Question 1: Docstring\n",
        "\n",
        "Create a docstring with:\n",
        "1. The final aim of our program (50 words limit).\n",
        "2. The variables and constants that you will use in this exercise (data dictionary). It is expected that you choose informative variable names and document your program (both docstrings and comments). \n",
        "3. Divide the docstring in sections. One section per question.\n",
        "---"
      ]
    },
    {
      "cell_type": "markdown",
      "metadata": {
        "id": "q2zvhr_epcTS"
      },
      "source": [
        "<b> Final aim of our program:</b>\n",
        "\n",
        "################################################################################\n",
        "\n",
        "The final aim of this program is to to develop a machine learning model to predict readmissions with in 30 days of hospital discharge at the time of hospital discharge. \n",
        "\n",
        "\n",
        "################################################################################"
      ]
    },
    {
      "cell_type": "markdown",
      "metadata": {
        "id": "-3wGayW7marI"
      },
      "source": [
        "<b> Constants and variables in alphabetical order:</b>\n",
        "\n",
        "################################################################################\n",
        "---\n",
        "<b> Aim of this program </b>\n",
        "\n",
        "\n",
        "\n",
        "---\n",
        "\n",
        "---\n",
        "<b> Question 2: Loading the data, preparation and visualisation </b>\n",
        "\n",
        "* `hospital`: Inpatient diabetes admissions dataset.\n",
        "* `hospital_plot`: Subset of `hospital` dataset with continuous variables and target variable.\n",
        "* `X` : Dataset with feature variables\n",
        "* `y` : Dataset with target variable\n",
        "* `y_binary` : Dataset with feature variables converted to binary variable\n",
        "\n",
        "\n",
        "---\n",
        "\n",
        "<b> Question 3: Splitting the dataset. </b>\n",
        "\n",
        "* `X_train` : Training set with features for model training\n",
        "* `X_test` : Test set with features for model testing\n",
        "* `y_train` : Training set with target for model training\n",
        "* `y_test` : Test set with target for model testing\n",
        "\n",
        "---\n",
        "\n",
        "<b> Question 4: Training, and hyper-parameter tuning of the Logistic Regression model.</b>\n",
        "\n",
        "* `grid_search_LR`: grid search CV object for model tuning with CV for LR model\n",
        "* `LR`: Linear regression classifier\n",
        "* `param_grid_LR` : parameter grid for linear regression\n",
        "* `pipieln` : pipeline used for `grid_search_LR` model tuning\n",
        "* `scaler` : Standard scaler to scale the feature variables\n",
        "\n",
        "---\n",
        "\n",
        "<b>Question 5: Evaluation of the Logistic Regression: </b>\n",
        "\n",
        " \n",
        "* `y_pred_LR_train` : predicted target by LR model for train set\n",
        "* `y_pred_LR_test` : predicted target by LR model for test set\n",
        "* `confusion_LR_train` :confusion matrix derived from `y_train` and `y_pred_LR_train` for the logistic regression model `grid_search_LR` evaluated on the test set. \n",
        "* `confusion_LR_test` : confusion matrix derived from `y_test` and `y_pred_LR_test` for the logistic regression model `grid_search_LR` evaluated on the test set. \n",
        "---\n",
        "\n",
        "<b>Question 6: Training, and hyper-parameter tuning of the Random Forrest model.</b>\n",
        "\n",
        "* `param_grid_RF` : Prameter grid for Random forrest \n",
        "* `RF`: Random forrest classifier\n",
        "* `grid_search_RF`: grid search CV object for model tuning with CV for RF model\n",
        "\n",
        "---\n",
        "<b>Question 7: Evaluation of the Random Forrest : </b>\n",
        "\n",
        "* `confusion_RF_train` :confusion matrix derived from `y_train` and `y_pred_RF_train` for the random forest model `grid_search_RF` evaluated on the test set. \n",
        "* `confusion_RF_test` :confusion matrix derived from `y_test` and `y_pred_RF_test` for the random forest model `grid_search_RF` evaluated on the test set. \n",
        "* `y_pred_RF_train` : predicted target by RF model for train set\n",
        "* `y_pred_RF_test` : predicted target by RF model for test set\n",
        "\n",
        "---\n",
        "\n",
        "<b>Question 9: Explaining the results with shap values : </b>\n",
        "\n",
        "* `explainer` : Tree explainer object to calculate shap values\n",
        "* `RF_mod` : Random forrest model fitted  to train set with hyperparameters\n",
        "* `shap_values_Model_train` : shap values for the training set \n",
        "\n",
        "---\n",
        "################################################################################"
      ]
    },
    {
      "cell_type": "markdown",
      "metadata": {
        "id": "ew1S59Vj1l2m"
      },
      "source": [
        "\n",
        "\n",
        "---\n",
        "\n"
      ]
    },
    {
      "cell_type": "markdown",
      "metadata": {
        "id": "DmqPFyIbnJci"
      },
      "source": [
        "---\n",
        "# Question 2: Read and check the `pickle` provided. Prepare the data so they can be used by the algorithms that you are going to create.\n",
        "---"
      ]
    },
    {
      "cell_type": "markdown",
      "metadata": {
        "id": "1AogtSxHxEW5"
      },
      "source": [
        "<b> Rationale: What are you doing to solve this question?-75 words limit:</b>\n",
        "\n",
        "\n",
        "################################################################################\n",
        "\n",
        "After loading the data from the pickle, basic structure of the dataset (shape, data types, column names and rows) is checked. Basic statistics are derived using `describe` function and dataset is checked for missing values. After removing the `ID` variables (as these variables are specific to the patients and doesn't help with prediction), data visualisation is performed to know the frequency of target variable. Distribution of continuous variables is plotted as per readmission. Also, the magnitude of the continuous variables are plotted (to know if scaling is required). The feature variables and the response variables are split and the response variable is converted to binary variable for the model.\n",
        "\n",
        "\n",
        "################################################################################"
      ]
    },
    {
      "cell_type": "code",
      "execution_count": 5,
      "metadata": {
        "id": "DJJoTVRw049e"
      },
      "outputs": [],
      "source": [
        "# Python code here (15 lines limit)\n",
        "import pickle\n",
        "\n",
        "pickle_path = Path(project_path) / 'hospital_data_final_assignment.pickle'\n",
        "\n",
        "with open (pickle_path , 'rb') as data:\n",
        "  hospital= pickle.load(data)\n"
      ]
    },
    {
      "cell_type": "code",
      "execution_count": null,
      "metadata": {
        "colab": {
          "base_uri": "https://localhost:8080/"
        },
        "id": "iL2NCRJIJvHg",
        "outputId": "fd345bb4-a5e9-4a0c-e919-0136c23e9eff"
      },
      "outputs": [
        {
          "data": {
            "text/plain": [
              "(69267, 79)"
            ]
          },
          "execution_count": 7,
          "metadata": {},
          "output_type": "execute_result"
        }
      ],
      "source": [
        "#Checking the hospital shape\n",
        "hospital.shape\n"
      ]
    },
    {
      "cell_type": "code",
      "execution_count": null,
      "metadata": {
        "id": "K9_Im6s54qwY"
      },
      "outputs": [],
      "source": [
        "# Finding the column names\n",
        "hospital.columns"
      ]
    },
    {
      "cell_type": "code",
      "execution_count": null,
      "metadata": {
        "id": "LjCtwmCCIh6l"
      },
      "outputs": [],
      "source": [
        "# Checking the data types\n",
        "hospital.dtypes"
      ]
    },
    {
      "cell_type": "code",
      "source": [
        "# checking few rows\n",
        "hospital.head()"
      ],
      "metadata": {
        "id": "bpeeNHOkIHm6"
      },
      "execution_count": null,
      "outputs": []
    },
    {
      "cell_type": "code",
      "execution_count": 7,
      "metadata": {
        "id": "Iu8UNV2V5Q-W"
      },
      "outputs": [],
      "source": [
        "#Dropping the patient ID and Admission_ID as they will not be useful for a generalisable model\n",
        "\n",
        "hospital = hospital.drop(['Patient_ID', 'Admission_ID'], axis=1)"
      ]
    },
    {
      "cell_type": "code",
      "execution_count": null,
      "metadata": {
        "id": "d7DJteGxLHdy"
      },
      "outputs": [],
      "source": [
        "# Basic statistics\n",
        "hospital.describe(include=\"all\")"
      ]
    },
    {
      "cell_type": "code",
      "execution_count": null,
      "metadata": {
        "id": "p7I3DazWvXmO"
      },
      "outputs": [],
      "source": [
        "# checking for missing values\n",
        "print(hospital.isnull().sum())"
      ]
    },
    {
      "cell_type": "markdown",
      "metadata": {
        "id": "4DdW2ho-I7RE"
      },
      "source": [
        "# Data Visualisation"
      ]
    },
    {
      "cell_type": "code",
      "execution_count": 24,
      "metadata": {
        "id": "StVxk-yApQJ0"
      },
      "outputs": [],
      "source": [
        "# checking the readmission variable\n",
        "#import numpy as np\n",
        "#color = ['steelblue', 'coral'] \n",
        "#ax = (hospital.readmission.value_counts()/len(hospital)*100).plot(kind=\"bar\",color=color, rot=0)\n",
        "#ax.set_yticks(np.arange(0, 120,20))\n",
        "#ax.set_ylabel('Proportion (%)')\n",
        "#ax.set_xlabel('Readmission')\n",
        "#ax.set_title('Readmission (No/Yes)')"
      ]
    },
    {
      "cell_type": "code",
      "execution_count": 23,
      "metadata": {
        "id": "xP-jTYKz5vBu"
      },
      "outputs": [],
      "source": [
        "\n",
        "# Selecting continuous variables to plot\n",
        "#hospital_plot = hospital[['los', 'num_lab_procedures','num_procedures','num_medications',\n",
        "#                        'number_outpatient', 'number_emergency', 'number_inpatient', 'number_diagnoses','Age','readmission']]\n",
        "\n",
        "# Transforming the data\n",
        "#hospital_plot = hospital_plot.melt(['readmission'], var_name='cols',  value_name='vals')\n",
        "#hospital_plot.sort_values('readmission', inplace=True)\n",
        "\n",
        "#sns.set(style=\"ticks\", font_scale=1.3)\n",
        "#pal = dict(yes=\"coral\", no=\"steelblue\")   \n",
        "\n",
        "# Plotting all the continuous variables as per readmission\n",
        "#p = sns.FacetGrid(hospital_plot, col='cols', hue=\"readmission\", palette=pal, legend_out=False, \n",
        "#                 sharex=False, sharey=False, col_wrap=4)\n",
        "#p = (p.map(plt.hist, \"vals\", alpha=0.8).add_legend())\n",
        "#p.fig.set_size_inches(17,11)\n",
        "\n",
        "# Adding the legend to each plot\n",
        "#for ax in p.axes.ravel():\n",
        "#    ax.legend(title=\"Readmission\")    \n"
      ]
    },
    {
      "cell_type": "code",
      "execution_count": 22,
      "metadata": {
        "id": "316JC7jkAojY"
      },
      "outputs": [],
      "source": [
        "#checking the magnitude of features\n",
        "#import matplotlib.pyplot as plt\n",
        "#import seaborn as sns\n",
        "#plt.figure(figsize=(10,10))\n",
        "#sns.violinplot(x=\"cols\", y=\"vals\", hue=\"readmission\", data= hospital_plot,split=True, inner=\"quart\")\n",
        "#plt.xticks(rotation=90)"
      ]
    },
    {
      "cell_type": "code",
      "execution_count": 8,
      "metadata": {
        "id": "sag6MC9GmLPr"
      },
      "outputs": [],
      "source": [
        "#Splitting the feature variables and response variables\n",
        "X= hospital.drop(['readmission'], axis=1)\n",
        "y= hospital['readmission']\n",
        "\n",
        "# Creating y_binary\n",
        "y_binary = [0 if x== 'no' else 1 for x in y]\n"
      ]
    },
    {
      "cell_type": "markdown",
      "metadata": {
        "id": "1gsmCMIJ9oQ5"
      },
      "source": [
        "---"
      ]
    },
    {
      "cell_type": "markdown",
      "metadata": {
        "id": "PRlUipB2-nMX"
      },
      "source": [
        "---\n",
        "## Question 3: Divide the data into 80% training, 20% test, random seed of 42. Set the other hyper-parameters as you consider appropriate\n",
        "---\n"
      ]
    },
    {
      "cell_type": "markdown",
      "metadata": {
        "id": "7HjTXSR6-4cR"
      },
      "source": [
        "<b> Rationale: What are you doing to solve this question?-75 words limit:</b>\n",
        "\n",
        "\n",
        "################################################################################\n",
        "\n",
        "The datset is split into training (80%) and test set (20%). As the dataset is imbalanced, split is statified with the target (`readmission`) variable; \n",
        "i.e both the test and train set will have same proportion od readmitted patients. \n",
        "\n",
        "\n",
        "################################################################################"
      ]
    },
    {
      "cell_type": "code",
      "execution_count": 9,
      "metadata": {
        "id": "5LeXrTXc-4cR"
      },
      "outputs": [],
      "source": [
        "# Python code here (2 lines limit, and 1 cell limit)\n",
        "from sklearn.model_selection import train_test_split\n",
        "\n",
        "X_train, X_test, y_train, y_test= train_test_split(X, y_binary, test_size= 0.2, random_state= 42, stratify = y)\n"
      ]
    },
    {
      "cell_type": "markdown",
      "metadata": {
        "id": "ZcRSCX5s1kPR"
      },
      "source": [
        "\n",
        "\n",
        "---\n",
        "\n"
      ]
    },
    {
      "cell_type": "markdown",
      "metadata": {
        "id": "b3v2JXmp1o5W"
      },
      "source": [
        "---\n",
        "## Question 4: Training, and hyper-parameter tuning of the Logistic Regression model.  \n",
        "\n",
        "Hyper-parameters: \n",
        "\n",
        "- `C` values: 10, 100.\n",
        "- `class_weight`: only two pairs. Choose one of these two combinations and explain why.\n",
        "\n",
        "    * A weight of (80% for class 1, 20% for class 0) and (70% for class 1, 30% for class 0)\n",
        "    * A weight of (80% for class 0, 20% for class 1) and (70% for class 0, 30% for class 1). \n",
        "\n",
        "- `penalty` values: l1, l2.\n",
        "- 3-fold cross-validation for the grid search.\n",
        "- `f1` as the score to choose the best model in the grid search.\n",
        "- `n_jobs`=-1.\n",
        "- do not include the heatmaps in the final submission.\n",
        "- do not change these hyper-parameters, \n",
        "- keep the remaining set of hyper-parameters in the default state. \n",
        "---\n"
      ]
    },
    {
      "cell_type": "markdown",
      "metadata": {
        "id": "p845NQAlAY-U"
      },
      "source": [
        "<b> Rationale: What are you doing to solve this question?-75 words limit:</b>\n",
        "\n",
        "\n",
        "################################################################################\n",
        "\n",
        "\n",
        "Grid search is used for hyperparameter tuning with cross validation and to train the data using the best parameters. To streamline the work flow the `Pipeline` function is used to scale the data by using the `StandardScaler` and to train the logistic regression model. Parameter grid dictionary is formed by using the provided hyperparameters. As the data is imbalaced (less proportion of readmissions) more weight is given to the minority class to improve the model prediction (hence first option is used to select the class weights). `GridSearchCV` is used to tune the hyper parameters using the pipiline and the parameter grid with other provided hyperparameters. Finally the model is trained on the training set and best hyperparamets and other metrices are derived.\n",
        "\n",
        "\n",
        "################################################################################"
      ]
    },
    {
      "cell_type": "code",
      "execution_count": 10,
      "metadata": {
        "colab": {
          "base_uri": "https://localhost:8080/"
        },
        "id": "-ixDi9nvAY-d",
        "outputId": "6f86fa64-3408-46ca-aad5-a041c490dd77"
      },
      "outputs": [
        {
          "output_type": "execute_result",
          "data": {
            "text/plain": [
              "GridSearchCV(cv=3,\n",
              "             estimator=Pipeline(steps=[('Transform', StandardScaler()),\n",
              "                                       ('Estimator',\n",
              "                                        LogisticRegression(random_state=42,\n",
              "                                                           solver='liblinear'))]),\n",
              "             n_jobs=-1,\n",
              "             param_grid={'Estimator__C': [10, 100],\n",
              "                         'Estimator__class_weight': [{0: 0.2, 1: 0.8},\n",
              "                                                     {0: 0.3, 1: 0.7}],\n",
              "                         'Estimator__penalty': ['l1', 'l2']},\n",
              "             scoring='f1')"
            ]
          },
          "metadata": {},
          "execution_count": 10
        }
      ],
      "source": [
        "\n",
        "\n",
        "# Python code here (15 lines limit, and 2 cells limit)\n",
        "from sklearn.preprocessing import StandardScaler\n",
        "from sklearn.linear_model import LogisticRegression\n",
        "from sklearn.pipeline import Pipeline\n",
        "from sklearn.model_selection import GridSearchCV\n",
        "\n",
        "# Forming a workflow using pipeline\n",
        "scaler= StandardScaler()\n",
        "LR = LogisticRegression(solver='liblinear', random_state=42)\n",
        "pipeln = Pipeline([('Transform', scaler), ('Estimator', LR)])\n",
        "\n",
        "# parameter dictionary for grid search\n",
        "\n",
        "param_grid= {'Estimator__C' : [10,100],\n",
        "             'Estimator__class_weight' : [{0:0.2,1:0.8}, {0:0.3,1:0.7}],\n",
        "             'Estimator__penalty' : ['l1','l2']} \n",
        "\n",
        "# hyperparameter tuning with CV\n",
        "\n",
        "grid_search_LR= GridSearchCV(pipeln, param_grid = param_grid, cv=3, scoring='f1', n_jobs= -1)\n",
        "\n",
        "# fitting the model on the training set\n",
        "\n",
        "grid_search_LR.fit(X_train, y_train)\n"
      ]
    },
    {
      "cell_type": "markdown",
      "metadata": {
        "id": "98-HHV0DNkkC"
      },
      "source": [
        "\n",
        "\n",
        "---\n",
        "\n"
      ]
    },
    {
      "cell_type": "code",
      "source": [
        "print(\"Best parameters: {}\".format(grid_search_LR.best_params_))"
      ],
      "metadata": {
        "colab": {
          "base_uri": "https://localhost:8080/"
        },
        "id": "S2-F5Ro93X0f",
        "outputId": "141d936b-7413-4318-a192-1749f2db24ea"
      },
      "execution_count": 11,
      "outputs": [
        {
          "output_type": "stream",
          "name": "stdout",
          "text": [
            "Best parameters: {'Estimator__C': 10, 'Estimator__class_weight': {0: 0.3, 1: 0.7}, 'Estimator__penalty': 'l2'}\n"
          ]
        }
      ]
    },
    {
      "cell_type": "markdown",
      "metadata": {
        "id": "y2BLfWf9NmWf"
      },
      "source": [
        "---\n",
        "## Question 5: Evaluation of the Logistic Regression model on the training and test sets. Use the function `plot_confusion_matrix(confusion_matrix)` provided above.\n",
        "---"
      ]
    },
    {
      "cell_type": "markdown",
      "metadata": {
        "id": "T0ZoopThNyaW"
      },
      "source": [
        "<b> Rationale: What are you doing to solve this question?-75 words limit:</b>\n",
        "\n",
        "\n",
        "################################################################################\n",
        "\n",
        "The target variable for the train and the test set is predicted using the model `grid_search_LR` and stored in `y_pred_LR_train` and `y_pred_LR_test`. Classification report is prepared to evaluate the model performance on the train and the test set using the predicted and true variables. Confusion matrix is then derived and plotted with the function provided for both the train and test sets.\n",
        "\n",
        "\n",
        "################################################################################"
      ]
    },
    {
      "cell_type": "code",
      "execution_count": 13,
      "metadata": {
        "colab": {
          "base_uri": "https://localhost:8080/"
        },
        "id": "L1GEJ8kGNyaW",
        "outputId": "70d0ecaf-ea1d-43f5-a184-7e0c793caf91"
      },
      "outputs": [
        {
          "output_type": "stream",
          "name": "stdout",
          "text": [
            "Classification report for logistical regression model on the train set :\n",
            "              precision    recall  f1-score   support\n",
            "\n",
            "           0       0.99      0.98      0.99     45878\n",
            "           1       0.91      0.97      0.93      9535\n",
            "\n",
            "    accuracy                           0.98     55413\n",
            "   macro avg       0.95      0.97      0.96     55413\n",
            "weighted avg       0.98      0.98      0.98     55413\n",
            "\n",
            "Classification report for logistical regression model on the test set :\n",
            "              precision    recall  f1-score   support\n",
            "\n",
            "           0       0.99      0.98      0.98     11470\n",
            "           1       0.90      0.96      0.93      2384\n",
            "\n",
            "    accuracy                           0.97     13854\n",
            "   macro avg       0.94      0.97      0.96     13854\n",
            "weighted avg       0.97      0.97      0.97     13854\n",
            "\n"
          ]
        }
      ],
      "source": [
        "# Python code here (10 lines limit, and 2 cells limit)\n",
        "from sklearn.metrics import classification_report\n",
        "from sklearn.metrics import confusion_matrix\n",
        "\n",
        "# prediction on the train and test set using log_mod\n",
        "y_pred_LR_train = grid_search_LR.predict(X_train)\n",
        "y_pred_LR_test = grid_search_LR.predict(X_test)\n",
        "\n",
        "# classification reports for train and test\n",
        "print(\"Classification report for logistical regression model on the train set :\")\n",
        "print(classification_report(y_train, y_pred_LR_train))\n",
        "\n",
        "print(\"Classification report for logistical regression model on the test set :\")\n",
        "print(classification_report(y_test, y_pred_LR_test))"
      ]
    },
    {
      "cell_type": "code",
      "execution_count": 14,
      "metadata": {
        "colab": {
          "base_uri": "https://localhost:8080/",
          "height": 295
        },
        "id": "fy9EPhIHXR_V",
        "outputId": "adcc412f-4d82-4113-eb6c-fc1d052fd6e7"
      },
      "outputs": [
        {
          "output_type": "display_data",
          "data": {
            "text/plain": [
              "<Figure size 432x288 with 2 Axes>"
            ],
            "image/png": "[encoded data removed]"
          },
          "metadata": {
            "needs_background": "light"
          }
        }
      ],
      "source": [
        "# Plotting the confusion matrices for train and test\n",
        "from sklearn.metrics import confusion_matrix\n",
        "confusion_LR_train = confusion_matrix(y_train, y_pred_LR_train)\n",
        "plot_confusion_matrix(confusion_LR_train)\n"
      ]
    },
    {
      "cell_type": "code",
      "execution_count": 15,
      "metadata": {
        "colab": {
          "base_uri": "https://localhost:8080/",
          "height": 295
        },
        "id": "4MaLx5UdaCdn",
        "outputId": "5f456544-24c8-4578-a766-0053fcf65c4c"
      },
      "outputs": [
        {
          "output_type": "display_data",
          "data": {
            "text/plain": [
              "<Figure size 432x288 with 2 Axes>"
            ],
            "image/png": "[encoded data removed]"
          },
          "metadata": {
            "needs_background": "light"
          }
        }
      ],
      "source": [
        "confusion_LR_test = confusion_matrix(y_test, y_pred_LR_test)\n",
        "plot_confusion_matrix(confusion_LR_test)"
      ]
    },
    {
      "cell_type": "markdown",
      "metadata": {
        "id": "CTIi2cd1yugI"
      },
      "source": [
        "\n",
        "\n",
        "---\n",
        "\n"
      ]
    },
    {
      "cell_type": "markdown",
      "metadata": {
        "id": "iTQtpo_8yvX3"
      },
      "source": [
        "---\n",
        "## Question 6: Training, and hyper-parameter tuning of the Random Forest model.  \n",
        "\n",
        "Fixed hyper-parameters (do not change the values of these hyper-parameters): \n",
        "\n",
        "- `n_estimators`: 150, 200\n",
        "- `class_weight`: Only two pairs. Choose one of these two combinations and explain why.\n",
        "1. A weight of (80% for class 1, 20% for class 0) and (70% for class 1, 30% for class 0)\n",
        "2.  A weight of (80% for class 0, 20% for class 1) and (70% for class 0, 30% for class 1). \n",
        "- 3-fold cross-validation for the grid search.\n",
        "- `f1` as the score to choose the best model in the grid search.\n",
        "- `n_jobs`=-1\n",
        "- do not include the heatmaps in the final submission\n",
        "\n",
        "Other hyper-parameters: \n",
        "\n",
        "- `max_features`: 20, 30\n",
        "- `min_samples_split`: 20, 25\n",
        "- you can change the previous hyper-parameters (`max_features` and `min_samples_split`) or add other hyper-parameters if you wish. An explanation must be given to why you made that decision. \n",
        "\n",
        "---\n"
      ]
    },
    {
      "cell_type": "markdown",
      "metadata": {
        "id": "fA5-7Qpe2SPC"
      },
      "source": [
        "<b> Rationale: What are you doing to solve this question?-75 words lilmit:</b>\n",
        "\n",
        "\n",
        "################################################################################\n",
        "\n",
        "In tree models scaling is not required as they are not sensitive to variance in the feature magnitude. `param_grid_RF` dictionary containes the hyperparameters to be tuned. Again option '1' is used for the `class_weight` giving more weight to the minority class (readmission) to improve the model prediction as the data is imbalanced. Grid search with cross validation is used to tune the hyperparamers by passing the `RF` and `param_grid_RF` with other mentioned hyperparamers. Finally the model is fit onto the training data and best parameters are derived.\n",
        "\n",
        "\n",
        "################################################################################"
      ]
    },
    {
      "cell_type": "code",
      "execution_count": 16,
      "metadata": {
        "colab": {
          "base_uri": "https://localhost:8080/"
        },
        "id": "9CHL7UB52SPJ",
        "outputId": "e2bb1c45-10b7-47c1-99d4-65e4d1b9afa7"
      },
      "outputs": [
        {
          "output_type": "execute_result",
          "data": {
            "text/plain": [
              "GridSearchCV(cv=3, estimator=RandomForestClassifier(random_state=42), n_jobs=-1,\n",
              "             param_grid={'class_weight': [{0: 0.2, 1: 0.8}, {0: 0.3, 1: 0.7}],\n",
              "                         'max_features': [20, 30],\n",
              "                         'min_samples_split': [20, 25],\n",
              "                         'n_estimators': [150, 200]},\n",
              "             scoring='f1')"
            ]
          },
          "metadata": {},
          "execution_count": 16
        }
      ],
      "source": [
        "# Python code here (15 lines limit, and 2 cells limit)\n",
        "from sklearn.ensemble import RandomForestClassifier\n",
        "\n",
        "# random forrest classifier\n",
        "\n",
        "RF = RandomForestClassifier(random_state= 42)\n",
        "\n",
        "# parameter grid for grid search\n",
        "\n",
        "param_grid_RF= {'n_estimators': [150,200], 'class_weight' : [{0:0.2,1:0.8}, {0:0.3,1:0.7}],\n",
        "            'max_features': [20,30], 'min_samples_split' : [20,25]}\n",
        "\n",
        "grid_search_RF= GridSearchCV(RF, param_grid= param_grid_RF, cv= 3, scoring= 'f1', n_jobs= -1)\n",
        "\n",
        "# fitting the model on train set\n",
        "\n",
        "grid_search_RF.fit(X_train, y_train)"
      ]
    },
    {
      "cell_type": "code",
      "execution_count": 17,
      "metadata": {
        "colab": {
          "base_uri": "https://localhost:8080/"
        },
        "id": "S-fBfGEkGjHz",
        "outputId": "1827edb8-c30d-402e-af04-3f19ec3682bc"
      },
      "outputs": [
        {
          "output_type": "stream",
          "name": "stdout",
          "text": [
            "Best parameters: {'class_weight': {0: 0.3, 1: 0.7}, 'max_features': 30, 'min_samples_split': 20, 'n_estimators': 200}\n"
          ]
        }
      ],
      "source": [
        "print(\"Best parameters: {}\".format(grid_search_RF.best_params_))"
      ]
    },
    {
      "cell_type": "markdown",
      "metadata": {
        "id": "_zu7iaT8AANM"
      },
      "source": [
        "---"
      ]
    },
    {
      "cell_type": "markdown",
      "metadata": {
        "id": "xwh91teY3VgL"
      },
      "source": [
        "---\n",
        "## Question 7: Evaluation of the Random Forest model on the training and test sets. Use the function `plot_confusion_matrix(confusion_matrix)` provided above.\n",
        "---"
      ]
    },
    {
      "cell_type": "markdown",
      "metadata": {
        "id": "hiHbV8Sf3VgT"
      },
      "source": [
        "<b> Rationale: What are you doing to solve this question?-50 words limit:</b>\n",
        "\n",
        "################################################################################\n",
        "\n",
        "`y_pred_RF_train` and `y_pred_RF_test` are predicted by fitting the model on the train and the test set respectively. The classification report is generated for the train and test set and the confusion matrix is plotted by using the function.\n",
        "\n",
        "\n",
        "################################################################################"
      ]
    },
    {
      "cell_type": "code",
      "execution_count": 18,
      "metadata": {
        "colab": {
          "base_uri": "https://localhost:8080/"
        },
        "id": "Yk4wPAlV3VgU",
        "outputId": "43426fa7-fe8a-40c4-a30d-224409ecb0f0"
      },
      "outputs": [
        {
          "output_type": "stream",
          "name": "stdout",
          "text": [
            "Classification report for Random Forrest model on the train set :\n",
            "              precision    recall  f1-score   support\n",
            "\n",
            "           0       1.00      0.99      0.99     45878\n",
            "           1       0.95      0.99      0.97      9535\n",
            "\n",
            "    accuracy                           0.99     55413\n",
            "   macro avg       0.98      0.99      0.98     55413\n",
            "weighted avg       0.99      0.99      0.99     55413\n",
            "\n",
            "Classification report for Random Forrest model on the test set :\n",
            "              precision    recall  f1-score   support\n",
            "\n",
            "           0       0.99      0.98      0.99     11470\n",
            "           1       0.92      0.97      0.94      2384\n",
            "\n",
            "    accuracy                           0.98     13854\n",
            "   macro avg       0.96      0.97      0.97     13854\n",
            "weighted avg       0.98      0.98      0.98     13854\n",
            "\n"
          ]
        }
      ],
      "source": [
        "# Python code here (10 lines limit, and 2 cells limit)\n",
        "y_pred_RF_train = grid_search_RF.predict(X_train)\n",
        "y_pred_RF_test = grid_search_RF.predict(X_test)\n",
        "\n",
        "# Printing the classification reports\n",
        "print(\"Classification report for Random Forrest model on the train set :\")\n",
        "print(classification_report(y_train, y_pred_RF_train))\n",
        "print(\"Classification report for Random Forrest model on the test set :\")\n",
        "print(classification_report(y_test, y_pred_RF_test))"
      ]
    },
    {
      "cell_type": "code",
      "execution_count": 19,
      "metadata": {
        "colab": {
          "base_uri": "https://localhost:8080/",
          "height": 295
        },
        "id": "xqG-GO9wI8C3",
        "outputId": "5c56d63d-77c2-44ad-d441-79c12be59a94"
      },
      "outputs": [
        {
          "output_type": "display_data",
          "data": {
            "text/plain": [
              "<Figure size 432x288 with 2 Axes>"
            ],
            "image/png": "[encoded data removed]"
          },
          "metadata": {
            "needs_background": "light"
          }
        }
      ],
      "source": [
        "confusion_RF_train= confusion_matrix(y_train, y_pred_RF_train)\n",
        "plot_confusion_matrix(confusion_RF_train)\n"
      ]
    },
    {
      "cell_type": "code",
      "execution_count": 20,
      "metadata": {
        "colab": {
          "base_uri": "https://localhost:8080/",
          "height": 295
        },
        "id": "qrTcGRR4JQ15",
        "outputId": "ee329da1-6f7c-48f0-fd1e-3e5a817a591a"
      },
      "outputs": [
        {
          "output_type": "display_data",
          "data": {
            "text/plain": [
              "<Figure size 432x288 with 2 Axes>"
            ],
            "image/png": "[encoded data removed]"
          },
          "metadata": {
            "needs_background": "light"
          }
        }
      ],
      "source": [
        "confusion_RF_test= confusion_matrix(y_test, y_pred_RF_test)\n",
        "plot_confusion_matrix(confusion_RF_test)"
      ]
    },
    {
      "cell_type": "markdown",
      "metadata": {
        "id": "4CsbaxoQ3VgU"
      },
      "source": [
        "\n",
        "\n",
        "---\n",
        "\n"
      ]
    },
    {
      "cell_type": "markdown",
      "metadata": {
        "id": "eMBZph5HA6AN"
      },
      "source": [
        "---\n",
        "## Question 8: Based on the research questions and the instructions; What model would you choose if any? Would you deploy this model?  - 300 words limit.\n",
        "---"
      ]
    },
    {
      "cell_type": "markdown",
      "metadata": {
        "id": "AXP5G5nrA6AO"
      },
      "source": [
        "<b> 300 words limit </b>\n",
        "\n",
        "################################################################################\n",
        "\n",
        "I will choose random forrest model for following reasons:\n",
        "\n",
        "* The random forrest model has better precision, recall and f1 score compared to the logistic regression model (92%, 97% and 94% vs 90%, 96% and 93%) in predicting class '1' i.e readmissions. \n",
        "\n",
        "* Although the LR model has higher false positive rate (desired to capture most patients with readmission) but also has higher false negative rate. The random forrest model has lower false positives and lower false negatives. \n",
        "\n",
        "* Penalty for the LR model is 'L2' which does not reduce the dimensionality of the data (number of features) and returns a complex model as opposed to RF model which gives more weight to important features.\n",
        "\n",
        "* RF/ tree models are not sensitive to variance in feature magnitudes and does not require scaling.\n",
        "\n",
        "Though the random forrest model is not perfect, I will deploy this model over logistical regression model for the above reasons.\n",
        "\n",
        "################################################################################"
      ]
    },
    {
      "cell_type": "markdown",
      "metadata": {
        "id": "l63_Jk0mA6AP"
      },
      "source": [
        "\n",
        "\n",
        "---\n",
        "\n"
      ]
    },
    {
      "cell_type": "markdown",
      "metadata": {
        "id": "u0Wb9iHWASdT"
      },
      "source": [
        "---\n",
        "## Question 9: Use SHAP for the final model and give some explanation of what you observe. If you haven't chosen any model in question 8, choose the best model according to the evaluation metrics. Comment the results.\n",
        "---"
      ]
    },
    {
      "cell_type": "markdown",
      "metadata": {
        "id": "1IlYvZ83ASda"
      },
      "source": [
        "<b> Explanation of what you observe - 100 words limit:</b>\n",
        "\n",
        "################################################################################\n",
        "\n",
        "SHAP summary plot demenstrates features of importance from top to bottom on y axis and shap values on the x axis. As seen the `los` is the most important feature to determine the readmission followed by `admission_type_grouped_emergency`. With increased `los` the model predict high risk of readmission. Similarly, with increase in number of out patients visits and age, the readmission risk increases.\n",
        "\n",
        "\n",
        "################################################################################"
      ]
    },
    {
      "cell_type": "code",
      "execution_count": 21,
      "metadata": {
        "colab": {
          "base_uri": "https://localhost:8080/"
        },
        "id": "wh2VJms9ASda",
        "outputId": "0d3937b7-9078-456c-d3fb-aa6319f0dacd"
      },
      "outputs": [
        {
          "output_type": "stream",
          "name": "stderr",
          "text": [
            "100%|===================| 110808/110826 [48:54<00:00]       "
          ]
        }
      ],
      "source": [
        "# Python code here (10 lines limit, and 2 cells limit)\n",
        "import numpy as np\n",
        "from shap import TreeExplainer\n",
        "\n",
        "#fitting the RF model with best parameters\n",
        "\n",
        "RF_mod= RandomForestClassifier(n_estimators=200, max_features= 30, min_samples_split=20, class_weight= {0: 0.3, 1: 0.7}, random_state=42)\n",
        "RF_mod.fit(X_train,y_train)\n",
        "\n",
        "# Calculating the shap values\n",
        "explainer= TreeExplainer(RF_mod, X_train)\n",
        "shap_values_Model_train = np.array(explainer.shap_values(X_train))\n"
      ]
    },
    {
      "cell_type": "code",
      "execution_count": 26,
      "metadata": {
        "colab": {
          "base_uri": "https://localhost:8080/",
          "height": 693
        },
        "id": "X83c9BYzLX4_",
        "outputId": "d7e7655b-e614-4338-f204-73f201904032"
      },
      "outputs": [
        {
          "output_type": "display_data",
          "data": {
            "text/plain": [
              "<Figure size 576x684 with 2 Axes>"
            ],
            "image/png": "[encoded data removed]"
          },
          "metadata": {
            "needs_background": "light"
          }
        }
      ],
      "source": [
        "import shap\n",
        "\n",
        "# Plotting the summary plot\n",
        "\n",
        "shap.summary_plot(shap_values_Model_train[1],X_train)"
      ]
    },
    {
      "cell_type": "markdown",
      "metadata": {
        "id": "hrD9unXPAZQL"
      },
      "source": [
        "\n",
        "\n",
        "---\n",
        "\n"
      ]
    },
    {
      "cell_type": "markdown",
      "metadata": {
        "id": "TYOVWp4ViKQq"
      },
      "source": [
        "© 2022 Copyright The University of New South Wales - CRICOS 00098G"
      ]
    }
  ],
  "metadata": {
    "colab": {
      "collapsed_sections": [],
      "name": "Final-Assignment-Avinash-Sharma.ipynb",
      "provenance": [],
      "include_colab_link": true
    },
    "interpreter": {
      "hash": "aee8b7b246df8f9039afb4144a1f6fd8d2ca17a180786b69acc140d282b71a49"
    },
    "kernelspec": {
      "display_name": "Python 3.7.4 64-bit",
      "language": "python",
      "name": "python3"
    },
    "language_info": {
      "codemirror_mode": {
        "name": "ipython",
        "version": 3
      },
      "file_extension": ".py",
      "mimetype": "text/x-python",
      "name": "python",
      "nbconvert_exporter": "python",
      "pygments_lexer": "ipython3",
      "version": "3.7.4"
    }
  },
  "nbformat": 4,
  "nbformat_minor": 0
}